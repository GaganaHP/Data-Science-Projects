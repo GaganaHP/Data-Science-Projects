{
 "cells": [
  {
   "cell_type": "markdown",
   "id": "529b339b-7136-47a0-8dce-dd29581f2e9b",
   "metadata": {},
   "source": [
    "## Problem Statement"
   ]
  },
  {
   "cell_type": "markdown",
   "id": "e5bfd561-0369-439f-8ce9-3c7db6cbf368",
   "metadata": {},
   "source": [
    "### The goal is to develop a dynamic pricing model that optimizes the prices of items to maximize revenue while remaining competitive in the market"
   ]
  },
  {
   "cell_type": "markdown",
   "id": "5a86253e-4f52-4e78-b1bb-c41312e9921b",
   "metadata": {},
   "source": [
    "#### Importing necessary libraries"
   ]
  },
  {
   "cell_type": "code",
   "execution_count": 8,
   "id": "fc61efdd-418d-4e0e-b600-10abee02eace",
   "metadata": {},
   "outputs": [],
   "source": [
    "import numpy as np\n",
    "import pandas as pd\n",
    "import seaborn as sns\n",
    "import matplotlib.pyplot as plt\n",
    "\n",
    "import statsmodels.api as sm\n",
    "import statsmodels.formula.api as smf\n",
    "\n",
    "from sklearn.linear_model import LinearRegression\n",
    "\n",
    "from warnings import filterwarnings\n",
    "filterwarnings('ignore')"
   ]
  },
  {
   "cell_type": "markdown",
   "id": "377aeb13-8b7a-4ea6-861a-f539f743682f",
   "metadata": {},
   "source": [
    "#### Loading the dataset"
   ]
  },
  {
   "cell_type": "code",
   "execution_count": 3,
   "id": "6caf771c-e965-496c-9c92-d553ebb7b119",
   "metadata": {},
   "outputs": [
    {
     "data": {
      "text/html": [
       "<div>\n",
       "<style scoped>\n",
       "    .dataframe tbody tr th:only-of-type {\n",
       "        vertical-align: middle;\n",
       "    }\n",
       "\n",
       "    .dataframe tbody tr th {\n",
       "        vertical-align: top;\n",
       "    }\n",
       "\n",
       "    .dataframe thead th {\n",
       "        text-align: right;\n",
       "    }\n",
       "</style>\n",
       "<table border=\"1\" class=\"dataframe\">\n",
       "  <thead>\n",
       "    <tr style=\"text-align: right;\">\n",
       "      <th></th>\n",
       "      <th>Index</th>\n",
       "      <th>Fiscal_Week_ID</th>\n",
       "      <th>Store_ID</th>\n",
       "      <th>Item_ID</th>\n",
       "      <th>Price</th>\n",
       "      <th>Item_Quantity</th>\n",
       "      <th>Sales_Amount_No_Discount</th>\n",
       "      <th>Sales_Amount</th>\n",
       "      <th>Competition_Price</th>\n",
       "    </tr>\n",
       "  </thead>\n",
       "  <tbody>\n",
       "    <tr>\n",
       "      <th>0</th>\n",
       "      <td>0</td>\n",
       "      <td>2019-11</td>\n",
       "      <td>store_459</td>\n",
       "      <td>item_526</td>\n",
       "      <td>134.49</td>\n",
       "      <td>435</td>\n",
       "      <td>4716.74</td>\n",
       "      <td>11272.59</td>\n",
       "      <td>206.44</td>\n",
       "    </tr>\n",
       "    <tr>\n",
       "      <th>1</th>\n",
       "      <td>1</td>\n",
       "      <td>2019-11</td>\n",
       "      <td>store_459</td>\n",
       "      <td>item_526</td>\n",
       "      <td>134.49</td>\n",
       "      <td>435</td>\n",
       "      <td>4716.74</td>\n",
       "      <td>11272.59</td>\n",
       "      <td>158.01</td>\n",
       "    </tr>\n",
       "    <tr>\n",
       "      <th>2</th>\n",
       "      <td>2</td>\n",
       "      <td>2019-11</td>\n",
       "      <td>store_459</td>\n",
       "      <td>item_526</td>\n",
       "      <td>134.49</td>\n",
       "      <td>435</td>\n",
       "      <td>4716.74</td>\n",
       "      <td>11272.59</td>\n",
       "      <td>278.03</td>\n",
       "    </tr>\n",
       "    <tr>\n",
       "      <th>3</th>\n",
       "      <td>3</td>\n",
       "      <td>2019-11</td>\n",
       "      <td>store_459</td>\n",
       "      <td>item_526</td>\n",
       "      <td>134.49</td>\n",
       "      <td>435</td>\n",
       "      <td>4716.74</td>\n",
       "      <td>11272.59</td>\n",
       "      <td>222.66</td>\n",
       "    </tr>\n",
       "    <tr>\n",
       "      <th>4</th>\n",
       "      <td>4</td>\n",
       "      <td>2019-11</td>\n",
       "      <td>store_459</td>\n",
       "      <td>item_526</td>\n",
       "      <td>134.49</td>\n",
       "      <td>435</td>\n",
       "      <td>4716.74</td>\n",
       "      <td>11272.59</td>\n",
       "      <td>195.32</td>\n",
       "    </tr>\n",
       "    <tr>\n",
       "      <th>...</th>\n",
       "      <td>...</td>\n",
       "      <td>...</td>\n",
       "      <td>...</td>\n",
       "      <td>...</td>\n",
       "      <td>...</td>\n",
       "      <td>...</td>\n",
       "      <td>...</td>\n",
       "      <td>...</td>\n",
       "      <td>...</td>\n",
       "    </tr>\n",
       "    <tr>\n",
       "      <th>99995</th>\n",
       "      <td>99995</td>\n",
       "      <td>2019-15</td>\n",
       "      <td>store_197</td>\n",
       "      <td>item_743</td>\n",
       "      <td>94.10</td>\n",
       "      <td>351</td>\n",
       "      <td>2629.98</td>\n",
       "      <td>10675.67</td>\n",
       "      <td>52.93</td>\n",
       "    </tr>\n",
       "    <tr>\n",
       "      <th>99996</th>\n",
       "      <td>99996</td>\n",
       "      <td>2019-15</td>\n",
       "      <td>store_197</td>\n",
       "      <td>item_743</td>\n",
       "      <td>94.10</td>\n",
       "      <td>351</td>\n",
       "      <td>2629.98</td>\n",
       "      <td>10675.67</td>\n",
       "      <td>171.17</td>\n",
       "    </tr>\n",
       "    <tr>\n",
       "      <th>99997</th>\n",
       "      <td>99997</td>\n",
       "      <td>2019-15</td>\n",
       "      <td>store_197</td>\n",
       "      <td>item_743</td>\n",
       "      <td>94.10</td>\n",
       "      <td>351</td>\n",
       "      <td>2629.98</td>\n",
       "      <td>10675.67</td>\n",
       "      <td>288.83</td>\n",
       "    </tr>\n",
       "    <tr>\n",
       "      <th>99998</th>\n",
       "      <td>99998</td>\n",
       "      <td>2019-15</td>\n",
       "      <td>store_197</td>\n",
       "      <td>item_743</td>\n",
       "      <td>94.10</td>\n",
       "      <td>351</td>\n",
       "      <td>2629.98</td>\n",
       "      <td>10675.67</td>\n",
       "      <td>133.77</td>\n",
       "    </tr>\n",
       "    <tr>\n",
       "      <th>99999</th>\n",
       "      <td>99999</td>\n",
       "      <td>2019-15</td>\n",
       "      <td>store_197</td>\n",
       "      <td>item_743</td>\n",
       "      <td>94.10</td>\n",
       "      <td>351</td>\n",
       "      <td>2629.98</td>\n",
       "      <td>10675.67</td>\n",
       "      <td>206.00</td>\n",
       "    </tr>\n",
       "  </tbody>\n",
       "</table>\n",
       "<p>100000 rows × 9 columns</p>\n",
       "</div>"
      ],
      "text/plain": [
       "       Index Fiscal_Week_ID  ... Sales_Amount Competition_Price\n",
       "0          0        2019-11  ...     11272.59            206.44\n",
       "1          1        2019-11  ...     11272.59            158.01\n",
       "2          2        2019-11  ...     11272.59            278.03\n",
       "3          3        2019-11  ...     11272.59            222.66\n",
       "4          4        2019-11  ...     11272.59            195.32\n",
       "...      ...            ...  ...          ...               ...\n",
       "99995  99995        2019-15  ...     10675.67             52.93\n",
       "99996  99996        2019-15  ...     10675.67            171.17\n",
       "99997  99997        2019-15  ...     10675.67            288.83\n",
       "99998  99998        2019-15  ...     10675.67            133.77\n",
       "99999  99999        2019-15  ...     10675.67            206.00\n",
       "\n",
       "[100000 rows x 9 columns]"
      ]
     },
     "execution_count": 3,
     "metadata": {},
     "output_type": "execute_result"
    }
   ],
   "source": [
    "df = pd.read_csv(r\"C:\\Users\\GAGANA\\Documents\\Data Analytics\\5. Machine Learning\\Price Optimization\\Competition_Data.csv\")\n",
    "df"
   ]
  },
  {
   "cell_type": "code",
   "execution_count": 10,
   "id": "f782dc5a-fab2-464c-a097-8dc080b398bf",
   "metadata": {},
   "outputs": [
    {
     "data": {
      "text/plain": [
       "(100000, 9)"
      ]
     },
     "execution_count": 10,
     "metadata": {},
     "output_type": "execute_result"
    }
   ],
   "source": [
    "df.shape"
   ]
  },
  {
   "cell_type": "code",
   "execution_count": 14,
   "id": "4941891e-3508-40e6-aa1f-d4db36ab98a7",
   "metadata": {},
   "outputs": [
    {
     "name": "stdout",
     "output_type": "stream",
     "text": [
      "<class 'pandas.core.frame.DataFrame'>\n",
      "RangeIndex: 100000 entries, 0 to 99999\n",
      "Data columns (total 9 columns):\n",
      " #   Column                    Non-Null Count   Dtype  \n",
      "---  ------                    --------------   -----  \n",
      " 0   Index                     100000 non-null  int64  \n",
      " 1   Fiscal_Week_ID            100000 non-null  object \n",
      " 2   Store_ID                  100000 non-null  object \n",
      " 3   Item_ID                   100000 non-null  object \n",
      " 4   Price                     100000 non-null  float64\n",
      " 5   Item_Quantity             100000 non-null  int64  \n",
      " 6   Sales_Amount_No_Discount  100000 non-null  float64\n",
      " 7   Sales_Amount              100000 non-null  float64\n",
      " 8   Competition_Price         100000 non-null  float64\n",
      "dtypes: float64(4), int64(2), object(3)\n",
      "memory usage: 6.9+ MB\n"
     ]
    }
   ],
   "source": [
    "df.info()"
   ]
  },
  {
   "cell_type": "markdown",
   "id": "82276e59-3fd2-4331-9d7c-3e5cb180ff16",
   "metadata": {},
   "source": [
    "#### Checking for null values"
   ]
  },
  {
   "cell_type": "code",
   "execution_count": 23,
   "id": "988fa95f-230e-4230-a35d-626a9113be37",
   "metadata": {},
   "outputs": [
    {
     "data": {
      "text/plain": [
       "Index                       0\n",
       "Fiscal_Week_ID              0\n",
       "Store_ID                    0\n",
       "Item_ID                     0\n",
       "Price                       0\n",
       "Item_Quantity               0\n",
       "Sales_Amount_No_Discount    0\n",
       "Sales_Amount                0\n",
       "Competition_Price           0\n",
       "dtype: int64"
      ]
     },
     "execution_count": 23,
     "metadata": {},
     "output_type": "execute_result"
    }
   ],
   "source": [
    "df.isnull().sum()"
   ]
  },
  {
   "cell_type": "code",
   "execution_count": 32,
   "id": "bbb01ac5-b21a-4a50-af3c-d0265158effc",
   "metadata": {},
   "outputs": [
    {
     "data": {
      "text/plain": [
       "Series([], dtype: int64)"
      ]
     },
     "execution_count": 32,
     "metadata": {},
     "output_type": "execute_result"
    }
   ],
   "source": [
    "miss_value = df.isnull().sum()\n",
    "miss_value[miss_value>0]"
   ]
  },
  {
   "cell_type": "code",
   "execution_count": 34,
   "id": "4499019d-6152-44b5-b00a-696ff2bc6ba3",
   "metadata": {},
   "outputs": [
    {
     "data": {
      "text/plain": [
       "<Axes: >"
      ]
     },
     "execution_count": 34,
     "metadata": {},
     "output_type": "execute_result"
    },
    {
     "data": {
      "image/png": "[encoded data removed]",
      "text/plain": [
       "<Figure size 640x480 with 2 Axes>"
      ]
     },
     "metadata": {},
     "output_type": "display_data"
    }
   ],
   "source": [
    "sns.heatmap(df.isnull())"
   ]
  },
  {
   "cell_type": "markdown",
   "id": "df84f33b-b72b-480f-883b-d81657cad792",
   "metadata": {},
   "source": [
    "This indicates that there is no null values"
   ]
  },
  {
   "cell_type": "code",
   "execution_count": 48,
   "id": "05c91fbb-db3d-409a-8d8e-3a9485a4ecc8",
   "metadata": {},
   "outputs": [
    {
     "data": {
      "text/html": [
       "<div>\n",
       "<style scoped>\n",
       "    .dataframe tbody tr th:only-of-type {\n",
       "        vertical-align: middle;\n",
       "    }\n",
       "\n",
       "    .dataframe tbody tr th {\n",
       "        vertical-align: top;\n",
       "    }\n",
       "\n",
       "    .dataframe thead th {\n",
       "        text-align: right;\n",
       "    }\n",
       "</style>\n",
       "<table border=\"1\" class=\"dataframe\">\n",
       "  <thead>\n",
       "    <tr style=\"text-align: right;\">\n",
       "      <th></th>\n",
       "      <th>Index</th>\n",
       "      <th>Price</th>\n",
       "      <th>Item_Quantity</th>\n",
       "      <th>Sales_Amount_No_Discount</th>\n",
       "      <th>Sales_Amount</th>\n",
       "      <th>Competition_Price</th>\n",
       "    </tr>\n",
       "  </thead>\n",
       "  <tbody>\n",
       "    <tr>\n",
       "      <th>count</th>\n",
       "      <td>100000.000000</td>\n",
       "      <td>100000.000000</td>\n",
       "      <td>100000.000000</td>\n",
       "      <td>100000.000000</td>\n",
       "      <td>100000.000000</td>\n",
       "      <td>100000.000000</td>\n",
       "    </tr>\n",
       "    <tr>\n",
       "      <th>mean</th>\n",
       "      <td>49999.500000</td>\n",
       "      <td>167.017783</td>\n",
       "      <td>399.611320</td>\n",
       "      <td>4771.147859</td>\n",
       "      <td>11396.865217</td>\n",
       "      <td>174.280887</td>\n",
       "    </tr>\n",
       "    <tr>\n",
       "      <th>std</th>\n",
       "      <td>28867.657797</td>\n",
       "      <td>69.503418</td>\n",
       "      <td>59.440567</td>\n",
       "      <td>1524.737540</td>\n",
       "      <td>2091.246764</td>\n",
       "      <td>71.545584</td>\n",
       "    </tr>\n",
       "    <tr>\n",
       "      <th>min</th>\n",
       "      <td>0.000000</td>\n",
       "      <td>47.700000</td>\n",
       "      <td>285.000000</td>\n",
       "      <td>2003.700000</td>\n",
       "      <td>7613.560000</td>\n",
       "      <td>47.950000</td>\n",
       "    </tr>\n",
       "    <tr>\n",
       "      <th>25%</th>\n",
       "      <td>24999.750000</td>\n",
       "      <td>105.410000</td>\n",
       "      <td>348.000000</td>\n",
       "      <td>3481.460000</td>\n",
       "      <td>9551.590000</td>\n",
       "      <td>118.627500</td>\n",
       "    </tr>\n",
       "    <tr>\n",
       "      <th>50%</th>\n",
       "      <td>49999.500000</td>\n",
       "      <td>159.420000</td>\n",
       "      <td>401.000000</td>\n",
       "      <td>4746.530000</td>\n",
       "      <td>11240.020000</td>\n",
       "      <td>162.510000</td>\n",
       "    </tr>\n",
       "    <tr>\n",
       "      <th>75%</th>\n",
       "      <td>74999.250000</td>\n",
       "      <td>221.900000</td>\n",
       "      <td>451.000000</td>\n",
       "      <td>6045.477500</td>\n",
       "      <td>13175.230000</td>\n",
       "      <td>237.335000</td>\n",
       "    </tr>\n",
       "    <tr>\n",
       "      <th>max</th>\n",
       "      <td>99999.000000</td>\n",
       "      <td>310.660000</td>\n",
       "      <td>522.000000</td>\n",
       "      <td>7853.810000</td>\n",
       "      <td>15685.080000</td>\n",
       "      <td>313.640000</td>\n",
       "    </tr>\n",
       "  </tbody>\n",
       "</table>\n",
       "</div>"
      ],
      "text/plain": [
       "               Index          Price  ...   Sales_Amount  Competition_Price\n",
       "count  100000.000000  100000.000000  ...  100000.000000      100000.000000\n",
       "mean    49999.500000     167.017783  ...   11396.865217         174.280887\n",
       "std     28867.657797      69.503418  ...    2091.246764          71.545584\n",
       "min         0.000000      47.700000  ...    7613.560000          47.950000\n",
       "25%     24999.750000     105.410000  ...    9551.590000         118.627500\n",
       "50%     49999.500000     159.420000  ...   11240.020000         162.510000\n",
       "75%     74999.250000     221.900000  ...   13175.230000         237.335000\n",
       "max     99999.000000     310.660000  ...   15685.080000         313.640000\n",
       "\n",
       "[8 rows x 6 columns]"
      ]
     },
     "execution_count": 48,
     "metadata": {},
     "output_type": "execute_result"
    }
   ],
   "source": [
    "df.describe()"
   ]
  },
  {
   "cell_type": "markdown",
   "id": "3b189e14-72a8-4ca8-b4f0-713d13923140",
   "metadata": {},
   "source": [
    "#### Checking for duplicates"
   ]
  },
  {
   "cell_type": "code",
   "execution_count": 28,
   "id": "366c0b21-8f1e-4507-b41e-d00d2b9a0ad2",
   "metadata": {},
   "outputs": [
    {
     "data": {
      "text/html": [
       "<div>\n",
       "<style scoped>\n",
       "    .dataframe tbody tr th:only-of-type {\n",
       "        vertical-align: middle;\n",
       "    }\n",
       "\n",
       "    .dataframe tbody tr th {\n",
       "        vertical-align: top;\n",
       "    }\n",
       "\n",
       "    .dataframe thead th {\n",
       "        text-align: right;\n",
       "    }\n",
       "</style>\n",
       "<table border=\"1\" class=\"dataframe\">\n",
       "  <thead>\n",
       "    <tr style=\"text-align: right;\">\n",
       "      <th></th>\n",
       "      <th>Index</th>\n",
       "      <th>Fiscal_Week_ID</th>\n",
       "      <th>Store_ID</th>\n",
       "      <th>Item_ID</th>\n",
       "      <th>Price</th>\n",
       "      <th>Item_Quantity</th>\n",
       "      <th>Sales_Amount_No_Discount</th>\n",
       "      <th>Sales_Amount</th>\n",
       "      <th>Competition_Price</th>\n",
       "    </tr>\n",
       "  </thead>\n",
       "  <tbody>\n",
       "  </tbody>\n",
       "</table>\n",
       "</div>"
      ],
      "text/plain": [
       "Empty DataFrame\n",
       "Columns: [Index, Fiscal_Week_ID, Store_ID, Item_ID, Price, Item_Quantity, Sales_Amount_No_Discount, Sales_Amount, Competition_Price]\n",
       "Index: []"
      ]
     },
     "execution_count": 28,
     "metadata": {},
     "output_type": "execute_result"
    }
   ],
   "source": [
    "df[df.duplicated()]"
   ]
  },
  {
   "cell_type": "markdown",
   "id": "972a809c-741f-48de-ade8-f9e58ff3c7fc",
   "metadata": {},
   "source": [
    "### EDA"
   ]
  },
  {
   "cell_type": "markdown",
   "id": "e530c6d1-85fc-4d32-a46a-11e472af921a",
   "metadata": {},
   "source": [
    "#### Target variable is Competition_Price"
   ]
  },
  {
   "cell_type": "code",
   "execution_count": 42,
   "id": "4c891b38-8443-42ae-a525-6c5e81c8f14d",
   "metadata": {},
   "outputs": [
    {
     "data": {
      "text/plain": [
       "count    100000.000000\n",
       "mean        174.280887\n",
       "std          71.545584\n",
       "min          47.950000\n",
       "25%         118.627500\n",
       "50%         162.510000\n",
       "75%         237.335000\n",
       "max         313.640000\n",
       "Name: Competition_Price, dtype: float64"
      ]
     },
     "execution_count": 42,
     "metadata": {},
     "output_type": "execute_result"
    }
   ],
   "source": [
    "df.Competition_Price.describe()"
   ]
  },
  {
   "cell_type": "code",
   "execution_count": 46,
   "id": "480949de-97d4-4ac7-80a2-d19fcf4bf157",
   "metadata": {},
   "outputs": [
    {
     "data": {
      "text/plain": [
       "<Axes: ylabel='Density'>"
      ]
     },
     "execution_count": 46,
     "metadata": {},
     "output_type": "execute_result"
    },
    {
     "data": {
      "image/png": "[encoded data removed]",
      "text/plain": [
       "<Figure size 640x480 with 1 Axes>"
      ]
     },
     "metadata": {},
     "output_type": "display_data"
    }
   ],
   "source": [
    "# Will check the distribution of the data\n",
    "\n",
    "sns.distplot(x = df['Competition_Price'])"
   ]
  },
  {
   "cell_type": "code",
   "execution_count": null,
   "id": "064d670c-3610-4c22-b54b-033190f391b1",
   "metadata": {},
   "outputs": [],
   "source": []
  }
 ],
 "metadata": {
  "kernelspec": {
   "display_name": "Python 3 (ipykernel)",
   "language": "python",
   "name": "python3"
  },
  "language_info": {
   "codemirror_mode": {
    "name": "ipython",
    "version": 3
   },
   "file_extension": ".py",
   "mimetype": "text/x-python",
   "name": "python",
   "nbconvert_exporter": "python",
   "pygments_lexer": "ipython3",
   "version": "3.12.7"
  }
 },
 "nbformat": 4,
 "nbformat_minor": 5
}
